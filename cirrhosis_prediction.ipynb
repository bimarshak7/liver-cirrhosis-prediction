{
  "nbformat": 4,
  "nbformat_minor": 0,
  "metadata": {
    "colab": {
      "provenance": [],
      "authorship_tag": "ABX9TyNgO5fpQrNbd95Xpd5vA626",
      "include_colab_link": true
    },
    "kernelspec": {
      "name": "python3",
      "display_name": "Python 3"
    },
    "language_info": {
      "name": "python"
    }
  },
  "cells": [
    {
      "cell_type": "markdown",
      "metadata": {
        "id": "view-in-github",
        "colab_type": "text"
      },
      "source": [
        "<a href=\"https://colab.research.google.com/github/bimarshak7/liver-cirrhosis-prediction/blob/main/cirrhosis_prediction.ipynb\" target=\"_parent\"><img src=\"https://colab.research.google.com/assets/colab-badge.svg\" alt=\"Open In Colab\"/></a>"
      ]
    },
    {
      "cell_type": "markdown",
      "source": [
        "# Cirrhosis Prediction\n",
        "\n",
        "**SCENARIO**  \n",
        "Cirrhosis is a chronic liver disease that occurs when healthy liver tissue is replaced by scar tissue, leading to a progressive loss of liver function. The scar tissue that forms in the liver can block blood flow through the liver and prevent it from working properly.Cirrhosis can have a number of causes, including chronic hepatitis B or C, alcohol abuse, nonalcoholic fatty liver disease, and autoimmune disorders. Symptoms of cirrhosis can include fatigue, jaundice, itching, bruising easily, and abdominal swelling.\n",
        "\n",
        "There is no cure for cirrhosis, but treatment can help manage the symptoms and slow the progression of the disease. Diagnosis of this disease includes procedures like blood tests, medical history analysis, physical examination, imaging studies and so on. The fatal stages of cirrhosis are easily diagnosed but at this stage the liver is severely damaged and is no longer able to function properly.\n",
        "\n",
        "Early diagnosis is necessary to save the liver of a patient. Liver biopsy can identify cirrhosis at early stage but it require to operate on the patient and also is time consuming. So, there is a necessity of a intelligent system which could identify cirrhosis even at earlier stages with the help of different biomarkers.\n",
        "\n",
        "\n",
        "**PROBLEM STATEMENT**  \n",
        "In this project our goal is to identify liver cirrhosis at different stages. This problem is formulated as classification problem to identify cirrhosis at four different stages (from 1 to 4) using different biomarkers."
      ],
      "metadata": {
        "id": "H_p6hju0N-l1"
      }
    },
    {
      "cell_type": "markdown",
      "source": [
        "**DATASET**  \n",
        "The dataset used contains the information collected from the Mayo Clinic trial in primary biliary cirrhosis (PBC) of the liver conducted between 1974 and 1984.\n",
        "A total of 424 PBC patients, referred to Mayo Clinic during that ten-year interval, met eligibility criteria for the randomized placebo-controlled trial of the drug D-penicillamine. The first 312 cases in the dataset participated in the randomized trial and contain largely complete data. The additional 112 cases did not participate in the clinical trial but consented to have basic measurements recorded and to be followed for survival. Six of those cases were lost to follow-up shortly after diagnosis, so the data here are on an additional 106 cases as well as the 312 randomized participants.\n",
        "\n",
        "**Attribute Information**  \n",
        "1. ID: unique identifier  \n",
        "2. N_Days: number of days between registration and the earlier of death, transplantation, or study analysis time in July 1986  \n",
        "3. Status: status of the patient C (censored), CL (censored due to liver tx), or D (death)  \n",
        "4. Drug: type of drug D-penicillamine or placebo  \n",
        "5. Age: age in [days]  \n",
        "6. Sex: M (male) or F (female)  \n",
        "7. Ascites: presence of ascites N (No) or Y (Yes)  \n",
        "8. Hepatomegaly: presence of hepatomegaly N (No) or Y (Yes)  \n",
        "9. Spiders: presence of spiders N (No) or Y (Yes)  \n",
        "10. Edema: presence of edema N (no edema and no diuretic therapy for edema), S (edema present without diuretics, or edema resolved by diuretics), or Y (edema despite diuretic therapy)  \n",
        "11. Bilirubin: serum bilirubin in [mg/dl]  \n",
        "12. Cholesterol: serum cholesterol in [mg/dl]  \n",
        "13. Albumin: albumin in [gm/dl]  \n",
        "14. Copper: urine copper in [ug/day]  \n",
        "15. Alk_Phos: alkaline phosphatase in [U/liter]  \n",
        "16. SGOT: SGOT in [U/ml]  \n",
        "17. Triglycerides: triglicerides in [mg/dl]  \n",
        "18. Platelets: platelets per cubic [ml/1000]  \n",
        "19. Prothrombin: prothrombin time in seconds [s]  \n",
        "20. Stage: histologic stage of disease (1, 2, 3, or 4)"
      ],
      "metadata": {
        "id": "AObHF0HLUjDY"
      }
    },
    {
      "cell_type": "code",
      "execution_count": 29,
      "metadata": {
        "id": "8h8bRE3KMs45"
      },
      "outputs": [],
      "source": [
        "# import necessary libraries\n",
        "import numpy as np\n",
        "import pandas as pd\n",
        "import matplotlib.pyplot as plt\n",
        "import seaborn as sns \n",
        "\n",
        "from sklearn.model_selection import train_test_split"
      ]
    },
    {
      "cell_type": "code",
      "source": [
        "#snippet to mount drive and copy kaggle API keys\n",
        "# palge you kaggle keys at MyDrive/Colab Notebooks/ as kaggle.json\n",
        "from google.colab import drive\n",
        "drive.mount('/content/drive')\n",
        "! mkdir ~/.kaggle\n",
        "!cp \"/content/drive/MyDrive/Colab Notebooks/kaggle.json\" ~/.kaggle/kaggle.json\n",
        "! chmod 600 ~/.kaggle/kaggle.json"
      ],
      "metadata": {
        "colab": {
          "base_uri": "https://localhost:8080/"
        },
        "id": "Au_l1xzIWl8L",
        "outputId": "255c9e23-ef32-4b8c-a384-fd3dfbfa2ec2"
      },
      "execution_count": 2,
      "outputs": [
        {
          "output_type": "stream",
          "name": "stdout",
          "text": [
            "Mounted at /content/drive\n"
          ]
        }
      ]
    },
    {
      "cell_type": "code",
      "source": [
        "# download dataset from kaggle and unzip\n",
        "!kaggle datasets download -d fedesoriano/cirrhosis-prediction-dataset\n",
        "!unzip -q *.zip"
      ],
      "metadata": {
        "colab": {
          "base_uri": "https://localhost:8080/"
        },
        "id": "wMs3OEKCXPQJ",
        "outputId": "ac6cb3cb-39f6-41b2-b036-6015ad574126"
      },
      "execution_count": 3,
      "outputs": [
        {
          "output_type": "stream",
          "name": "stdout",
          "text": [
            "Downloading cirrhosis-prediction-dataset.zip to /content\n",
            "\r  0% 0.00/11.0k [00:00<?, ?B/s]\n",
            "\r100% 11.0k/11.0k [00:00<00:00, 31.9MB/s]\n"
          ]
        }
      ]
    },
    {
      "cell_type": "markdown",
      "source": [
        "# Learn the data"
      ],
      "metadata": {
        "id": "JYH2E3YQWeF1"
      }
    },
    {
      "cell_type": "code",
      "source": [
        "# load dataset as pandas dataframe\n",
        "cir = pd.read_csv('/content/cirrhosis.csv')\n",
        "cir.head()"
      ],
      "metadata": {
        "colab": {
          "base_uri": "https://localhost:8080/",
          "height": 270
        },
        "id": "7xiHqscHVIia",
        "outputId": "8b706a93-347d-4f18-da87-7daeee7547db"
      },
      "execution_count": 95,
      "outputs": [
        {
          "output_type": "execute_result",
          "data": {
            "text/plain": [
              "   ID  N_Days Status             Drug    Age Sex Ascites Hepatomegaly Spiders  \\\n",
              "0   1     400      D  D-penicillamine  21464   F       Y            Y       Y   \n",
              "1   2    4500      C  D-penicillamine  20617   F       N            Y       Y   \n",
              "2   3    1012      D  D-penicillamine  25594   M       N            N       N   \n",
              "3   4    1925      D  D-penicillamine  19994   F       N            Y       Y   \n",
              "4   5    1504     CL          Placebo  13918   F       N            Y       Y   \n",
              "\n",
              "  Edema  Bilirubin  Cholesterol  Albumin  Copper  Alk_Phos    SGOT  \\\n",
              "0     Y       14.5        261.0     2.60   156.0    1718.0  137.95   \n",
              "1     N        1.1        302.0     4.14    54.0    7394.8  113.52   \n",
              "2     S        1.4        176.0     3.48   210.0     516.0   96.10   \n",
              "3     S        1.8        244.0     2.54    64.0    6121.8   60.63   \n",
              "4     N        3.4        279.0     3.53   143.0     671.0  113.15   \n",
              "\n",
              "   Tryglicerides  Platelets  Prothrombin  Stage  \n",
              "0          172.0      190.0         12.2    4.0  \n",
              "1           88.0      221.0         10.6    3.0  \n",
              "2           55.0      151.0         12.0    4.0  \n",
              "3           92.0      183.0         10.3    4.0  \n",
              "4           72.0      136.0         10.9    3.0  "
            ],
            "text/html": [
              "\n",
              "  <div id=\"df-0adab0cf-bc55-4b0c-909b-18fa8401fb6f\">\n",
              "    <div class=\"colab-df-container\">\n",
              "      <div>\n",
              "<style scoped>\n",
              "    .dataframe tbody tr th:only-of-type {\n",
              "        vertical-align: middle;\n",
              "    }\n",
              "\n",
              "    .dataframe tbody tr th {\n",
              "        vertical-align: top;\n",
              "    }\n",
              "\n",
              "    .dataframe thead th {\n",
              "        text-align: right;\n",
              "    }\n",
              "</style>\n",
              "<table border=\"1\" class=\"dataframe\">\n",
              "  <thead>\n",
              "    <tr style=\"text-align: right;\">\n",
              "      <th></th>\n",
              "      <th>ID</th>\n",
              "      <th>N_Days</th>\n",
              "      <th>Status</th>\n",
              "      <th>Drug</th>\n",
              "      <th>Age</th>\n",
              "      <th>Sex</th>\n",
              "      <th>Ascites</th>\n",
              "      <th>Hepatomegaly</th>\n",
              "      <th>Spiders</th>\n",
              "      <th>Edema</th>\n",
              "      <th>Bilirubin</th>\n",
              "      <th>Cholesterol</th>\n",
              "      <th>Albumin</th>\n",
              "      <th>Copper</th>\n",
              "      <th>Alk_Phos</th>\n",
              "      <th>SGOT</th>\n",
              "      <th>Tryglicerides</th>\n",
              "      <th>Platelets</th>\n",
              "      <th>Prothrombin</th>\n",
              "      <th>Stage</th>\n",
              "    </tr>\n",
              "  </thead>\n",
              "  <tbody>\n",
              "    <tr>\n",
              "      <th>0</th>\n",
              "      <td>1</td>\n",
              "      <td>400</td>\n",
              "      <td>D</td>\n",
              "      <td>D-penicillamine</td>\n",
              "      <td>21464</td>\n",
              "      <td>F</td>\n",
              "      <td>Y</td>\n",
              "      <td>Y</td>\n",
              "      <td>Y</td>\n",
              "      <td>Y</td>\n",
              "      <td>14.5</td>\n",
              "      <td>261.0</td>\n",
              "      <td>2.60</td>\n",
              "      <td>156.0</td>\n",
              "      <td>1718.0</td>\n",
              "      <td>137.95</td>\n",
              "      <td>172.0</td>\n",
              "      <td>190.0</td>\n",
              "      <td>12.2</td>\n",
              "      <td>4.0</td>\n",
              "    </tr>\n",
              "    <tr>\n",
              "      <th>1</th>\n",
              "      <td>2</td>\n",
              "      <td>4500</td>\n",
              "      <td>C</td>\n",
              "      <td>D-penicillamine</td>\n",
              "      <td>20617</td>\n",
              "      <td>F</td>\n",
              "      <td>N</td>\n",
              "      <td>Y</td>\n",
              "      <td>Y</td>\n",
              "      <td>N</td>\n",
              "      <td>1.1</td>\n",
              "      <td>302.0</td>\n",
              "      <td>4.14</td>\n",
              "      <td>54.0</td>\n",
              "      <td>7394.8</td>\n",
              "      <td>113.52</td>\n",
              "      <td>88.0</td>\n",
              "      <td>221.0</td>\n",
              "      <td>10.6</td>\n",
              "      <td>3.0</td>\n",
              "    </tr>\n",
              "    <tr>\n",
              "      <th>2</th>\n",
              "      <td>3</td>\n",
              "      <td>1012</td>\n",
              "      <td>D</td>\n",
              "      <td>D-penicillamine</td>\n",
              "      <td>25594</td>\n",
              "      <td>M</td>\n",
              "      <td>N</td>\n",
              "      <td>N</td>\n",
              "      <td>N</td>\n",
              "      <td>S</td>\n",
              "      <td>1.4</td>\n",
              "      <td>176.0</td>\n",
              "      <td>3.48</td>\n",
              "      <td>210.0</td>\n",
              "      <td>516.0</td>\n",
              "      <td>96.10</td>\n",
              "      <td>55.0</td>\n",
              "      <td>151.0</td>\n",
              "      <td>12.0</td>\n",
              "      <td>4.0</td>\n",
              "    </tr>\n",
              "    <tr>\n",
              "      <th>3</th>\n",
              "      <td>4</td>\n",
              "      <td>1925</td>\n",
              "      <td>D</td>\n",
              "      <td>D-penicillamine</td>\n",
              "      <td>19994</td>\n",
              "      <td>F</td>\n",
              "      <td>N</td>\n",
              "      <td>Y</td>\n",
              "      <td>Y</td>\n",
              "      <td>S</td>\n",
              "      <td>1.8</td>\n",
              "      <td>244.0</td>\n",
              "      <td>2.54</td>\n",
              "      <td>64.0</td>\n",
              "      <td>6121.8</td>\n",
              "      <td>60.63</td>\n",
              "      <td>92.0</td>\n",
              "      <td>183.0</td>\n",
              "      <td>10.3</td>\n",
              "      <td>4.0</td>\n",
              "    </tr>\n",
              "    <tr>\n",
              "      <th>4</th>\n",
              "      <td>5</td>\n",
              "      <td>1504</td>\n",
              "      <td>CL</td>\n",
              "      <td>Placebo</td>\n",
              "      <td>13918</td>\n",
              "      <td>F</td>\n",
              "      <td>N</td>\n",
              "      <td>Y</td>\n",
              "      <td>Y</td>\n",
              "      <td>N</td>\n",
              "      <td>3.4</td>\n",
              "      <td>279.0</td>\n",
              "      <td>3.53</td>\n",
              "      <td>143.0</td>\n",
              "      <td>671.0</td>\n",
              "      <td>113.15</td>\n",
              "      <td>72.0</td>\n",
              "      <td>136.0</td>\n",
              "      <td>10.9</td>\n",
              "      <td>3.0</td>\n",
              "    </tr>\n",
              "  </tbody>\n",
              "</table>\n",
              "</div>\n",
              "      <button class=\"colab-df-convert\" onclick=\"convertToInteractive('df-0adab0cf-bc55-4b0c-909b-18fa8401fb6f')\"\n",
              "              title=\"Convert this dataframe to an interactive table.\"\n",
              "              style=\"display:none;\">\n",
              "        \n",
              "  <svg xmlns=\"http://www.w3.org/2000/svg\" height=\"24px\"viewBox=\"0 0 24 24\"\n",
              "       width=\"24px\">\n",
              "    <path d=\"M0 0h24v24H0V0z\" fill=\"none\"/>\n",
              "    <path d=\"M18.56 5.44l.94 2.06.94-2.06 2.06-.94-2.06-.94-.94-2.06-.94 2.06-2.06.94zm-11 1L8.5 8.5l.94-2.06 2.06-.94-2.06-.94L8.5 2.5l-.94 2.06-2.06.94zm10 10l.94 2.06.94-2.06 2.06-.94-2.06-.94-.94-2.06-.94 2.06-2.06.94z\"/><path d=\"M17.41 7.96l-1.37-1.37c-.4-.4-.92-.59-1.43-.59-.52 0-1.04.2-1.43.59L10.3 9.45l-7.72 7.72c-.78.78-.78 2.05 0 2.83L4 21.41c.39.39.9.59 1.41.59.51 0 1.02-.2 1.41-.59l7.78-7.78 2.81-2.81c.8-.78.8-2.07 0-2.86zM5.41 20L4 18.59l7.72-7.72 1.47 1.35L5.41 20z\"/>\n",
              "  </svg>\n",
              "      </button>\n",
              "      \n",
              "  <style>\n",
              "    .colab-df-container {\n",
              "      display:flex;\n",
              "      flex-wrap:wrap;\n",
              "      gap: 12px;\n",
              "    }\n",
              "\n",
              "    .colab-df-convert {\n",
              "      background-color: #E8F0FE;\n",
              "      border: none;\n",
              "      border-radius: 50%;\n",
              "      cursor: pointer;\n",
              "      display: none;\n",
              "      fill: #1967D2;\n",
              "      height: 32px;\n",
              "      padding: 0 0 0 0;\n",
              "      width: 32px;\n",
              "    }\n",
              "\n",
              "    .colab-df-convert:hover {\n",
              "      background-color: #E2EBFA;\n",
              "      box-shadow: 0px 1px 2px rgba(60, 64, 67, 0.3), 0px 1px 3px 1px rgba(60, 64, 67, 0.15);\n",
              "      fill: #174EA6;\n",
              "    }\n",
              "\n",
              "    [theme=dark] .colab-df-convert {\n",
              "      background-color: #3B4455;\n",
              "      fill: #D2E3FC;\n",
              "    }\n",
              "\n",
              "    [theme=dark] .colab-df-convert:hover {\n",
              "      background-color: #434B5C;\n",
              "      box-shadow: 0px 1px 3px 1px rgba(0, 0, 0, 0.15);\n",
              "      filter: drop-shadow(0px 1px 2px rgba(0, 0, 0, 0.3));\n",
              "      fill: #FFFFFF;\n",
              "    }\n",
              "  </style>\n",
              "\n",
              "      <script>\n",
              "        const buttonEl =\n",
              "          document.querySelector('#df-0adab0cf-bc55-4b0c-909b-18fa8401fb6f button.colab-df-convert');\n",
              "        buttonEl.style.display =\n",
              "          google.colab.kernel.accessAllowed ? 'block' : 'none';\n",
              "\n",
              "        async function convertToInteractive(key) {\n",
              "          const element = document.querySelector('#df-0adab0cf-bc55-4b0c-909b-18fa8401fb6f');\n",
              "          const dataTable =\n",
              "            await google.colab.kernel.invokeFunction('convertToInteractive',\n",
              "                                                     [key], {});\n",
              "          if (!dataTable) return;\n",
              "\n",
              "          const docLinkHtml = 'Like what you see? Visit the ' +\n",
              "            '<a target=\"_blank\" href=https://colab.research.google.com/notebooks/data_table.ipynb>data table notebook</a>'\n",
              "            + ' to learn more about interactive tables.';\n",
              "          element.innerHTML = '';\n",
              "          dataTable['output_type'] = 'display_data';\n",
              "          await google.colab.output.renderOutput(dataTable, element);\n",
              "          const docLink = document.createElement('div');\n",
              "          docLink.innerHTML = docLinkHtml;\n",
              "          element.appendChild(docLink);\n",
              "        }\n",
              "      </script>\n",
              "    </div>\n",
              "  </div>\n",
              "  "
            ]
          },
          "metadata": {},
          "execution_count": 95
        }
      ]
    },
    {
      "cell_type": "code",
      "source": [
        "#drop irrelevant columns\n",
        "cir.drop(['ID'],axis=1,inplace=True)"
      ],
      "metadata": {
        "id": "RABaD9hMs8D6"
      },
      "execution_count": 97,
      "outputs": []
    },
    {
      "cell_type": "code",
      "source": [
        "#convert age to years from days\n",
        "cir[\"Age\"] = cir[\"Age\"]/365.2425"
      ],
      "metadata": {
        "id": "XYkUyewyyjY0"
      },
      "execution_count": 98,
      "outputs": []
    },
    {
      "cell_type": "code",
      "source": [
        "# look at the possible values in categorical columns\n",
        "cat_cols = []\n",
        "for col in cir.columns:\n",
        "  if(cir[col].dtype==\"O\"):\n",
        "    cat_cols.append(col)\n",
        "    print(col,\": \",cir[col].unique())"
      ],
      "metadata": {
        "colab": {
          "base_uri": "https://localhost:8080/"
        },
        "id": "sDLLT1NQYjxz",
        "outputId": "a8d221c5-03ab-4f16-8737-65c7ee6d40dc"
      },
      "execution_count": 99,
      "outputs": [
        {
          "output_type": "stream",
          "name": "stdout",
          "text": [
            "Status :  ['D' 'C' 'CL']\n",
            "Drug :  ['D-penicillamine' 'Placebo' nan]\n",
            "Sex :  ['F' 'M']\n",
            "Ascites :  ['Y' 'N' nan]\n",
            "Hepatomegaly :  ['Y' 'N' nan]\n",
            "Spiders :  ['Y' 'N' nan]\n",
            "Edema :  ['Y' 'N' 'S']\n"
          ]
        }
      ]
    },
    {
      "cell_type": "code",
      "source": [
        "# short glance of numerical data\n",
        "cir.describe().T.style.background_gradient(cmap = 'BuGn')"
      ],
      "metadata": {
        "colab": {
          "base_uri": "https://localhost:8080/",
          "height": 426
        },
        "id": "mxR3z33SWjGH",
        "outputId": "f38173b1-18f9-4aa4-caf4-724538e01ff7"
      },
      "execution_count": 100,
      "outputs": [
        {
          "output_type": "execute_result",
          "data": {
            "text/plain": [
              "<pandas.io.formats.style.Styler at 0x7ff3b686d300>"
            ],
            "text/html": [
              "<style type=\"text/css\">\n",
              "#T_664ee_row0_col0, #T_664ee_row0_col4, #T_664ee_row0_col5, #T_664ee_row0_col6, #T_664ee_row1_col0, #T_664ee_row2_col0, #T_664ee_row4_col0, #T_664ee_row6_col1, #T_664ee_row6_col2, #T_664ee_row6_col3, #T_664ee_row6_col7 {\n",
              "  background-color: #00441b;\n",
              "  color: #f1f1f1;\n",
              "}\n",
              "#T_664ee_row0_col1 {\n",
              "  background-color: #004e1f;\n",
              "  color: #f1f1f1;\n",
              "}\n",
              "#T_664ee_row0_col2 {\n",
              "  background-color: #61bf9e;\n",
              "  color: #000000;\n",
              "}\n",
              "#T_664ee_row0_col3, #T_664ee_row9_col5 {\n",
              "  background-color: #e2f4f7;\n",
              "  color: #000000;\n",
              "}\n",
              "#T_664ee_row0_col7 {\n",
              "  background-color: #a5ddd0;\n",
              "  color: #000000;\n",
              "}\n",
              "#T_664ee_row1_col1, #T_664ee_row1_col6, #T_664ee_row7_col2 {\n",
              "  background-color: #f4fbfc;\n",
              "  color: #000000;\n",
              "}\n",
              "#T_664ee_row1_col2, #T_664ee_row1_col7, #T_664ee_row4_col3, #T_664ee_row10_col4, #T_664ee_row10_col5 {\n",
              "  background-color: #f6fcfd;\n",
              "  color: #000000;\n",
              "}\n",
              "#T_664ee_row1_col3, #T_664ee_row7_col3 {\n",
              "  background-color: #eaf7fa;\n",
              "  color: #000000;\n",
              "}\n",
              "#T_664ee_row1_col4, #T_664ee_row5_col4, #T_664ee_row7_col7 {\n",
              "  background-color: #f2fafc;\n",
              "  color: #000000;\n",
              "}\n",
              "#T_664ee_row1_col5, #T_664ee_row8_col2, #T_664ee_row10_col3 {\n",
              "  background-color: #f3fafc;\n",
              "  color: #000000;\n",
              "}\n",
              "#T_664ee_row2_col1, #T_664ee_row2_col2, #T_664ee_row2_col3, #T_664ee_row2_col4, #T_664ee_row2_col5, #T_664ee_row2_col6, #T_664ee_row2_col7, #T_664ee_row4_col1, #T_664ee_row4_col2, #T_664ee_row4_col4, #T_664ee_row4_col5, #T_664ee_row4_col6, #T_664ee_row4_col7, #T_664ee_row8_col0, #T_664ee_row10_col1, #T_664ee_row10_col2, #T_664ee_row10_col6, #T_664ee_row10_col7, #T_664ee_row11_col1, #T_664ee_row11_col2, #T_664ee_row11_col3, #T_664ee_row11_col4, #T_664ee_row11_col5, #T_664ee_row11_col6, #T_664ee_row11_col7 {\n",
              "  background-color: #f7fcfd;\n",
              "  color: #000000;\n",
              "}\n",
              "#T_664ee_row3_col0, #T_664ee_row5_col3 {\n",
              "  background-color: #f5fbfd;\n",
              "  color: #000000;\n",
              "}\n",
              "#T_664ee_row3_col1 {\n",
              "  background-color: #d9f1f0;\n",
              "  color: #000000;\n",
              "}\n",
              "#T_664ee_row3_col2 {\n",
              "  background-color: #e8f6fa;\n",
              "  color: #000000;\n",
              "}\n",
              "#T_664ee_row3_col3 {\n",
              "  background-color: #88d1bd;\n",
              "  color: #000000;\n",
              "}\n",
              "#T_664ee_row3_col4 {\n",
              "  background-color: #d1eee9;\n",
              "  color: #000000;\n",
              "}\n",
              "#T_664ee_row3_col5 {\n",
              "  background-color: #dbf1f1;\n",
              "  color: #000000;\n",
              "}\n",
              "#T_664ee_row3_col6 {\n",
              "  background-color: #e0f3f5;\n",
              "  color: #000000;\n",
              "}\n",
              "#T_664ee_row3_col7, #T_664ee_row9_col1 {\n",
              "  background-color: #e5f5f9;\n",
              "  color: #000000;\n",
              "}\n",
              "#T_664ee_row5_col0 {\n",
              "  background-color: #d5efed;\n",
              "  color: #000000;\n",
              "}\n",
              "#T_664ee_row5_col1, #T_664ee_row9_col7 {\n",
              "  background-color: #f0f9fb;\n",
              "  color: #000000;\n",
              "}\n",
              "#T_664ee_row5_col2, #T_664ee_row5_col5, #T_664ee_row5_col6, #T_664ee_row5_col7, #T_664ee_row8_col7, #T_664ee_row9_col2 {\n",
              "  background-color: #f1fafc;\n",
              "  color: #000000;\n",
              "}\n",
              "#T_664ee_row6_col0, #T_664ee_row7_col0 {\n",
              "  background-color: #d2eeeb;\n",
              "  color: #000000;\n",
              "}\n",
              "#T_664ee_row6_col4 {\n",
              "  background-color: #157f3b;\n",
              "  color: #f1f1f1;\n",
              "}\n",
              "#T_664ee_row6_col5 {\n",
              "  background-color: #28914d;\n",
              "  color: #f1f1f1;\n",
              "}\n",
              "#T_664ee_row6_col6 {\n",
              "  background-color: #218944;\n",
              "  color: #f1f1f1;\n",
              "}\n",
              "#T_664ee_row7_col1, #T_664ee_row7_col6, #T_664ee_row8_col1, #T_664ee_row8_col5, #T_664ee_row8_col6 {\n",
              "  background-color: #eff9fb;\n",
              "  color: #000000;\n",
              "}\n",
              "#T_664ee_row7_col4 {\n",
              "  background-color: #edf8fb;\n",
              "  color: #000000;\n",
              "}\n",
              "#T_664ee_row7_col5 {\n",
              "  background-color: #eef8fb;\n",
              "  color: #000000;\n",
              "}\n",
              "#T_664ee_row8_col3 {\n",
              "  background-color: #e7f6f9;\n",
              "  color: #000000;\n",
              "}\n",
              "#T_664ee_row8_col4 {\n",
              "  background-color: #ecf8fb;\n",
              "  color: #000000;\n",
              "}\n",
              "#T_664ee_row9_col0 {\n",
              "  background-color: #005e26;\n",
              "  color: #f1f1f1;\n",
              "}\n",
              "#T_664ee_row9_col3 {\n",
              "  background-color: #d4efec;\n",
              "  color: #000000;\n",
              "}\n",
              "#T_664ee_row9_col4 {\n",
              "  background-color: #dbf2f2;\n",
              "  color: #000000;\n",
              "}\n",
              "#T_664ee_row9_col6 {\n",
              "  background-color: #e6f5f9;\n",
              "  color: #000000;\n",
              "}\n",
              "#T_664ee_row10_col0 {\n",
              "  background-color: #00481d;\n",
              "  color: #f1f1f1;\n",
              "}\n",
              "#T_664ee_row11_col0 {\n",
              "  background-color: #005221;\n",
              "  color: #f1f1f1;\n",
              "}\n",
              "</style>\n",
              "<table id=\"T_664ee\" class=\"dataframe\">\n",
              "  <thead>\n",
              "    <tr>\n",
              "      <th class=\"blank level0\" >&nbsp;</th>\n",
              "      <th id=\"T_664ee_level0_col0\" class=\"col_heading level0 col0\" >count</th>\n",
              "      <th id=\"T_664ee_level0_col1\" class=\"col_heading level0 col1\" >mean</th>\n",
              "      <th id=\"T_664ee_level0_col2\" class=\"col_heading level0 col2\" >std</th>\n",
              "      <th id=\"T_664ee_level0_col3\" class=\"col_heading level0 col3\" >min</th>\n",
              "      <th id=\"T_664ee_level0_col4\" class=\"col_heading level0 col4\" >25%</th>\n",
              "      <th id=\"T_664ee_level0_col5\" class=\"col_heading level0 col5\" >50%</th>\n",
              "      <th id=\"T_664ee_level0_col6\" class=\"col_heading level0 col6\" >75%</th>\n",
              "      <th id=\"T_664ee_level0_col7\" class=\"col_heading level0 col7\" >max</th>\n",
              "    </tr>\n",
              "  </thead>\n",
              "  <tbody>\n",
              "    <tr>\n",
              "      <th id=\"T_664ee_level0_row0\" class=\"row_heading level0 row0\" >N_Days</th>\n",
              "      <td id=\"T_664ee_row0_col0\" class=\"data row0 col0\" >418.000000</td>\n",
              "      <td id=\"T_664ee_row0_col1\" class=\"data row0 col1\" >1917.782297</td>\n",
              "      <td id=\"T_664ee_row0_col2\" class=\"data row0 col2\" >1104.672992</td>\n",
              "      <td id=\"T_664ee_row0_col3\" class=\"data row0 col3\" >41.000000</td>\n",
              "      <td id=\"T_664ee_row0_col4\" class=\"data row0 col4\" >1092.750000</td>\n",
              "      <td id=\"T_664ee_row0_col5\" class=\"data row0 col5\" >1730.000000</td>\n",
              "      <td id=\"T_664ee_row0_col6\" class=\"data row0 col6\" >2613.500000</td>\n",
              "      <td id=\"T_664ee_row0_col7\" class=\"data row0 col7\" >4795.000000</td>\n",
              "    </tr>\n",
              "    <tr>\n",
              "      <th id=\"T_664ee_level0_row1\" class=\"row_heading level0 row1\" >Age</th>\n",
              "      <td id=\"T_664ee_row1_col0\" class=\"data row1 col0\" >418.000000</td>\n",
              "      <td id=\"T_664ee_row1_col1\" class=\"data row1 col1\" >50.742593</td>\n",
              "      <td id=\"T_664ee_row1_col2\" class=\"data row1 col2\" >10.447429</td>\n",
              "      <td id=\"T_664ee_row1_col3\" class=\"data row1 col3\" >26.278431</td>\n",
              "      <td id=\"T_664ee_row1_col4\" class=\"data row1 col4\" >42.833186</td>\n",
              "      <td id=\"T_664ee_row1_col5\" class=\"data row1 col5\" >51.001732</td>\n",
              "      <td id=\"T_664ee_row1_col6\" class=\"data row1 col6\" >58.242127</td>\n",
              "      <td id=\"T_664ee_row1_col7\" class=\"data row1 col7\" >78.441036</td>\n",
              "    </tr>\n",
              "    <tr>\n",
              "      <th id=\"T_664ee_level0_row2\" class=\"row_heading level0 row2\" >Bilirubin</th>\n",
              "      <td id=\"T_664ee_row2_col0\" class=\"data row2 col0\" >418.000000</td>\n",
              "      <td id=\"T_664ee_row2_col1\" class=\"data row2 col1\" >3.220813</td>\n",
              "      <td id=\"T_664ee_row2_col2\" class=\"data row2 col2\" >4.407506</td>\n",
              "      <td id=\"T_664ee_row2_col3\" class=\"data row2 col3\" >0.300000</td>\n",
              "      <td id=\"T_664ee_row2_col4\" class=\"data row2 col4\" >0.800000</td>\n",
              "      <td id=\"T_664ee_row2_col5\" class=\"data row2 col5\" >1.400000</td>\n",
              "      <td id=\"T_664ee_row2_col6\" class=\"data row2 col6\" >3.400000</td>\n",
              "      <td id=\"T_664ee_row2_col7\" class=\"data row2 col7\" >28.000000</td>\n",
              "    </tr>\n",
              "    <tr>\n",
              "      <th id=\"T_664ee_level0_row3\" class=\"row_heading level0 row3\" >Cholesterol</th>\n",
              "      <td id=\"T_664ee_row3_col0\" class=\"data row3 col0\" >284.000000</td>\n",
              "      <td id=\"T_664ee_row3_col1\" class=\"data row3 col1\" >369.510563</td>\n",
              "      <td id=\"T_664ee_row3_col2\" class=\"data row3 col2\" >231.944545</td>\n",
              "      <td id=\"T_664ee_row3_col3\" class=\"data row3 col3\" >120.000000</td>\n",
              "      <td id=\"T_664ee_row3_col4\" class=\"data row3 col4\" >249.500000</td>\n",
              "      <td id=\"T_664ee_row3_col5\" class=\"data row3 col5\" >309.500000</td>\n",
              "      <td id=\"T_664ee_row3_col6\" class=\"data row3 col6\" >400.000000</td>\n",
              "      <td id=\"T_664ee_row3_col7\" class=\"data row3 col7\" >1775.000000</td>\n",
              "    </tr>\n",
              "    <tr>\n",
              "      <th id=\"T_664ee_level0_row4\" class=\"row_heading level0 row4\" >Albumin</th>\n",
              "      <td id=\"T_664ee_row4_col0\" class=\"data row4 col0\" >418.000000</td>\n",
              "      <td id=\"T_664ee_row4_col1\" class=\"data row4 col1\" >3.497440</td>\n",
              "      <td id=\"T_664ee_row4_col2\" class=\"data row4 col2\" >0.424972</td>\n",
              "      <td id=\"T_664ee_row4_col3\" class=\"data row4 col3\" >1.960000</td>\n",
              "      <td id=\"T_664ee_row4_col4\" class=\"data row4 col4\" >3.242500</td>\n",
              "      <td id=\"T_664ee_row4_col5\" class=\"data row4 col5\" >3.530000</td>\n",
              "      <td id=\"T_664ee_row4_col6\" class=\"data row4 col6\" >3.770000</td>\n",
              "      <td id=\"T_664ee_row4_col7\" class=\"data row4 col7\" >4.640000</td>\n",
              "    </tr>\n",
              "    <tr>\n",
              "      <th id=\"T_664ee_level0_row5\" class=\"row_heading level0 row5\" >Copper</th>\n",
              "      <td id=\"T_664ee_row5_col0\" class=\"data row5 col0\" >310.000000</td>\n",
              "      <td id=\"T_664ee_row5_col1\" class=\"data row5 col1\" >97.648387</td>\n",
              "      <td id=\"T_664ee_row5_col2\" class=\"data row5 col2\" >85.613920</td>\n",
              "      <td id=\"T_664ee_row5_col3\" class=\"data row5 col3\" >4.000000</td>\n",
              "      <td id=\"T_664ee_row5_col4\" class=\"data row5 col4\" >41.250000</td>\n",
              "      <td id=\"T_664ee_row5_col5\" class=\"data row5 col5\" >73.000000</td>\n",
              "      <td id=\"T_664ee_row5_col6\" class=\"data row5 col6\" >123.000000</td>\n",
              "      <td id=\"T_664ee_row5_col7\" class=\"data row5 col7\" >588.000000</td>\n",
              "    </tr>\n",
              "    <tr>\n",
              "      <th id=\"T_664ee_level0_row6\" class=\"row_heading level0 row6\" >Alk_Phos</th>\n",
              "      <td id=\"T_664ee_row6_col0\" class=\"data row6 col0\" >312.000000</td>\n",
              "      <td id=\"T_664ee_row6_col1\" class=\"data row6 col1\" >1982.655769</td>\n",
              "      <td id=\"T_664ee_row6_col2\" class=\"data row6 col2\" >2140.388824</td>\n",
              "      <td id=\"T_664ee_row6_col3\" class=\"data row6 col3\" >289.000000</td>\n",
              "      <td id=\"T_664ee_row6_col4\" class=\"data row6 col4\" >871.500000</td>\n",
              "      <td id=\"T_664ee_row6_col5\" class=\"data row6 col5\" >1259.000000</td>\n",
              "      <td id=\"T_664ee_row6_col6\" class=\"data row6 col6\" >1980.000000</td>\n",
              "      <td id=\"T_664ee_row6_col7\" class=\"data row6 col7\" >13862.400000</td>\n",
              "    </tr>\n",
              "    <tr>\n",
              "      <th id=\"T_664ee_level0_row7\" class=\"row_heading level0 row7\" >SGOT</th>\n",
              "      <td id=\"T_664ee_row7_col0\" class=\"data row7 col0\" >312.000000</td>\n",
              "      <td id=\"T_664ee_row7_col1\" class=\"data row7 col1\" >122.556346</td>\n",
              "      <td id=\"T_664ee_row7_col2\" class=\"data row7 col2\" >56.699525</td>\n",
              "      <td id=\"T_664ee_row7_col3\" class=\"data row7 col3\" >26.350000</td>\n",
              "      <td id=\"T_664ee_row7_col4\" class=\"data row7 col4\" >80.600000</td>\n",
              "      <td id=\"T_664ee_row7_col5\" class=\"data row7 col5\" >114.700000</td>\n",
              "      <td id=\"T_664ee_row7_col6\" class=\"data row7 col6\" >151.900000</td>\n",
              "      <td id=\"T_664ee_row7_col7\" class=\"data row7 col7\" >457.250000</td>\n",
              "    </tr>\n",
              "    <tr>\n",
              "      <th id=\"T_664ee_level0_row8\" class=\"row_heading level0 row8\" >Tryglicerides</th>\n",
              "      <td id=\"T_664ee_row8_col0\" class=\"data row8 col0\" >282.000000</td>\n",
              "      <td id=\"T_664ee_row8_col1\" class=\"data row8 col1\" >124.702128</td>\n",
              "      <td id=\"T_664ee_row8_col2\" class=\"data row8 col2\" >65.148639</td>\n",
              "      <td id=\"T_664ee_row8_col3\" class=\"data row8 col3\" >33.000000</td>\n",
              "      <td id=\"T_664ee_row8_col4\" class=\"data row8 col4\" >84.250000</td>\n",
              "      <td id=\"T_664ee_row8_col5\" class=\"data row8 col5\" >108.000000</td>\n",
              "      <td id=\"T_664ee_row8_col6\" class=\"data row8 col6\" >151.000000</td>\n",
              "      <td id=\"T_664ee_row8_col7\" class=\"data row8 col7\" >598.000000</td>\n",
              "    </tr>\n",
              "    <tr>\n",
              "      <th id=\"T_664ee_level0_row9\" class=\"row_heading level0 row9\" >Platelets</th>\n",
              "      <td id=\"T_664ee_row9_col0\" class=\"data row9 col0\" >407.000000</td>\n",
              "      <td id=\"T_664ee_row9_col1\" class=\"data row9 col1\" >257.024570</td>\n",
              "      <td id=\"T_664ee_row9_col2\" class=\"data row9 col2\" >98.325585</td>\n",
              "      <td id=\"T_664ee_row9_col3\" class=\"data row9 col3\" >62.000000</td>\n",
              "      <td id=\"T_664ee_row9_col4\" class=\"data row9 col4\" >188.500000</td>\n",
              "      <td id=\"T_664ee_row9_col5\" class=\"data row9 col5\" >251.000000</td>\n",
              "      <td id=\"T_664ee_row9_col6\" class=\"data row9 col6\" >318.000000</td>\n",
              "      <td id=\"T_664ee_row9_col7\" class=\"data row9 col7\" >721.000000</td>\n",
              "    </tr>\n",
              "    <tr>\n",
              "      <th id=\"T_664ee_level0_row10\" class=\"row_heading level0 row10\" >Prothrombin</th>\n",
              "      <td id=\"T_664ee_row10_col0\" class=\"data row10 col0\" >416.000000</td>\n",
              "      <td id=\"T_664ee_row10_col1\" class=\"data row10 col1\" >10.731731</td>\n",
              "      <td id=\"T_664ee_row10_col2\" class=\"data row10 col2\" >1.022000</td>\n",
              "      <td id=\"T_664ee_row10_col3\" class=\"data row10 col3\" >9.000000</td>\n",
              "      <td id=\"T_664ee_row10_col4\" class=\"data row10 col4\" >10.000000</td>\n",
              "      <td id=\"T_664ee_row10_col5\" class=\"data row10 col5\" >10.600000</td>\n",
              "      <td id=\"T_664ee_row10_col6\" class=\"data row10 col6\" >11.100000</td>\n",
              "      <td id=\"T_664ee_row10_col7\" class=\"data row10 col7\" >18.000000</td>\n",
              "    </tr>\n",
              "    <tr>\n",
              "      <th id=\"T_664ee_level0_row11\" class=\"row_heading level0 row11\" >Stage</th>\n",
              "      <td id=\"T_664ee_row11_col0\" class=\"data row11 col0\" >412.000000</td>\n",
              "      <td id=\"T_664ee_row11_col1\" class=\"data row11 col1\" >3.024272</td>\n",
              "      <td id=\"T_664ee_row11_col2\" class=\"data row11 col2\" >0.882042</td>\n",
              "      <td id=\"T_664ee_row11_col3\" class=\"data row11 col3\" >1.000000</td>\n",
              "      <td id=\"T_664ee_row11_col4\" class=\"data row11 col4\" >2.000000</td>\n",
              "      <td id=\"T_664ee_row11_col5\" class=\"data row11 col5\" >3.000000</td>\n",
              "      <td id=\"T_664ee_row11_col6\" class=\"data row11 col6\" >4.000000</td>\n",
              "      <td id=\"T_664ee_row11_col7\" class=\"data row11 col7\" >4.000000</td>\n",
              "    </tr>\n",
              "  </tbody>\n",
              "</table>\n"
            ]
          },
          "metadata": {},
          "execution_count": 100
        }
      ]
    },
    {
      "cell_type": "markdown",
      "source": [
        "The numerical attributes are at varying range. We will perform feature scaling later."
      ],
      "metadata": {
        "id": "Nd2QCjQYX_v9"
      }
    },
    {
      "cell_type": "markdown",
      "source": [
        "## Work on missing values"
      ],
      "metadata": {
        "id": "et7Hs3yCmjUU"
      }
    },
    {
      "cell_type": "code",
      "source": [
        "cir.isna().sum()"
      ],
      "metadata": {
        "colab": {
          "base_uri": "https://localhost:8080/"
        },
        "id": "MMS0hnBgX72o",
        "outputId": "097a951e-9a84-4a02-f324-b48c4db7bc89"
      },
      "execution_count": 101,
      "outputs": [
        {
          "output_type": "execute_result",
          "data": {
            "text/plain": [
              "N_Days             0\n",
              "Status             0\n",
              "Drug             106\n",
              "Age                0\n",
              "Sex                0\n",
              "Ascites          106\n",
              "Hepatomegaly     106\n",
              "Spiders          106\n",
              "Edema              0\n",
              "Bilirubin          0\n",
              "Cholesterol      134\n",
              "Albumin            0\n",
              "Copper           108\n",
              "Alk_Phos         106\n",
              "SGOT             106\n",
              "Tryglicerides    136\n",
              "Platelets         11\n",
              "Prothrombin        2\n",
              "Stage              6\n",
              "dtype: int64"
            ]
          },
          "metadata": {},
          "execution_count": 101
        }
      ]
    },
    {
      "cell_type": "markdown",
      "source": [
        "We got too many null values. Looking at number of rows, its not feasible to drop rows containing null values."
      ],
      "metadata": {
        "id": "zpqgEHuHtnWA"
      }
    },
    {
      "cell_type": "code",
      "source": [
        "cir[cir[\"Stage\"].isna()]"
      ],
      "metadata": {
        "colab": {
          "base_uri": "https://localhost:8080/",
          "height": 302
        },
        "id": "L1HAI-K1muQz",
        "outputId": "b62936ed-26f4-4840-e206-bbe0b98f0649"
      },
      "execution_count": 102,
      "outputs": [
        {
          "output_type": "execute_result",
          "data": {
            "text/plain": [
              "     N_Days Status Drug        Age Sex Ascites Hepatomegaly Spiders Edema  \\\n",
              "312    4062      C  NaN  60.001232   F     NaN          NaN     NaN     N   \n",
              "316    3030      C  NaN  62.002642   F     NaN          NaN     NaN     N   \n",
              "318      41      D  NaN  46.002314   F     NaN          NaN     NaN     N   \n",
              "321    2011      D  NaN  64.001314   F     NaN          NaN     NaN     N   \n",
              "333     466      D  NaN  56.001150   F     NaN          NaN     NaN     N   \n",
              "336    2286      D  NaN  56.001150   F     NaN          NaN     NaN     N   \n",
              "\n",
              "     Bilirubin  Cholesterol  Albumin  Copper  Alk_Phos  SGOT  Tryglicerides  \\\n",
              "312        0.7          NaN     3.65     NaN       NaN   NaN            NaN   \n",
              "316        0.8          NaN     2.48     NaN       NaN   NaN            NaN   \n",
              "318        5.0          NaN     2.93     NaN       NaN   NaN            NaN   \n",
              "321        1.1          NaN     3.69     NaN       NaN   NaN            NaN   \n",
              "333        7.1          NaN     3.51     NaN       NaN   NaN            NaN   \n",
              "336        1.8          NaN     3.64     NaN       NaN   NaN            NaN   \n",
              "\n",
              "     Platelets  Prothrombin  Stage  \n",
              "312      378.0         11.0    NaN  \n",
              "316      273.0         10.0    NaN  \n",
              "318      260.0         10.4    NaN  \n",
              "321      139.0         10.5    NaN  \n",
              "333      721.0         11.8    NaN  \n",
              "336      141.0         10.0    NaN  "
            ],
            "text/html": [
              "\n",
              "  <div id=\"df-ce1fee29-94b0-46ee-aad5-d3334e8568d9\">\n",
              "    <div class=\"colab-df-container\">\n",
              "      <div>\n",
              "<style scoped>\n",
              "    .dataframe tbody tr th:only-of-type {\n",
              "        vertical-align: middle;\n",
              "    }\n",
              "\n",
              "    .dataframe tbody tr th {\n",
              "        vertical-align: top;\n",
              "    }\n",
              "\n",
              "    .dataframe thead th {\n",
              "        text-align: right;\n",
              "    }\n",
              "</style>\n",
              "<table border=\"1\" class=\"dataframe\">\n",
              "  <thead>\n",
              "    <tr style=\"text-align: right;\">\n",
              "      <th></th>\n",
              "      <th>N_Days</th>\n",
              "      <th>Status</th>\n",
              "      <th>Drug</th>\n",
              "      <th>Age</th>\n",
              "      <th>Sex</th>\n",
              "      <th>Ascites</th>\n",
              "      <th>Hepatomegaly</th>\n",
              "      <th>Spiders</th>\n",
              "      <th>Edema</th>\n",
              "      <th>Bilirubin</th>\n",
              "      <th>Cholesterol</th>\n",
              "      <th>Albumin</th>\n",
              "      <th>Copper</th>\n",
              "      <th>Alk_Phos</th>\n",
              "      <th>SGOT</th>\n",
              "      <th>Tryglicerides</th>\n",
              "      <th>Platelets</th>\n",
              "      <th>Prothrombin</th>\n",
              "      <th>Stage</th>\n",
              "    </tr>\n",
              "  </thead>\n",
              "  <tbody>\n",
              "    <tr>\n",
              "      <th>312</th>\n",
              "      <td>4062</td>\n",
              "      <td>C</td>\n",
              "      <td>NaN</td>\n",
              "      <td>60.001232</td>\n",
              "      <td>F</td>\n",
              "      <td>NaN</td>\n",
              "      <td>NaN</td>\n",
              "      <td>NaN</td>\n",
              "      <td>N</td>\n",
              "      <td>0.7</td>\n",
              "      <td>NaN</td>\n",
              "      <td>3.65</td>\n",
              "      <td>NaN</td>\n",
              "      <td>NaN</td>\n",
              "      <td>NaN</td>\n",
              "      <td>NaN</td>\n",
              "      <td>378.0</td>\n",
              "      <td>11.0</td>\n",
              "      <td>NaN</td>\n",
              "    </tr>\n",
              "    <tr>\n",
              "      <th>316</th>\n",
              "      <td>3030</td>\n",
              "      <td>C</td>\n",
              "      <td>NaN</td>\n",
              "      <td>62.002642</td>\n",
              "      <td>F</td>\n",
              "      <td>NaN</td>\n",
              "      <td>NaN</td>\n",
              "      <td>NaN</td>\n",
              "      <td>N</td>\n",
              "      <td>0.8</td>\n",
              "      <td>NaN</td>\n",
              "      <td>2.48</td>\n",
              "      <td>NaN</td>\n",
              "      <td>NaN</td>\n",
              "      <td>NaN</td>\n",
              "      <td>NaN</td>\n",
              "      <td>273.0</td>\n",
              "      <td>10.0</td>\n",
              "      <td>NaN</td>\n",
              "    </tr>\n",
              "    <tr>\n",
              "      <th>318</th>\n",
              "      <td>41</td>\n",
              "      <td>D</td>\n",
              "      <td>NaN</td>\n",
              "      <td>46.002314</td>\n",
              "      <td>F</td>\n",
              "      <td>NaN</td>\n",
              "      <td>NaN</td>\n",
              "      <td>NaN</td>\n",
              "      <td>N</td>\n",
              "      <td>5.0</td>\n",
              "      <td>NaN</td>\n",
              "      <td>2.93</td>\n",
              "      <td>NaN</td>\n",
              "      <td>NaN</td>\n",
              "      <td>NaN</td>\n",
              "      <td>NaN</td>\n",
              "      <td>260.0</td>\n",
              "      <td>10.4</td>\n",
              "      <td>NaN</td>\n",
              "    </tr>\n",
              "    <tr>\n",
              "      <th>321</th>\n",
              "      <td>2011</td>\n",
              "      <td>D</td>\n",
              "      <td>NaN</td>\n",
              "      <td>64.001314</td>\n",
              "      <td>F</td>\n",
              "      <td>NaN</td>\n",
              "      <td>NaN</td>\n",
              "      <td>NaN</td>\n",
              "      <td>N</td>\n",
              "      <td>1.1</td>\n",
              "      <td>NaN</td>\n",
              "      <td>3.69</td>\n",
              "      <td>NaN</td>\n",
              "      <td>NaN</td>\n",
              "      <td>NaN</td>\n",
              "      <td>NaN</td>\n",
              "      <td>139.0</td>\n",
              "      <td>10.5</td>\n",
              "      <td>NaN</td>\n",
              "    </tr>\n",
              "    <tr>\n",
              "      <th>333</th>\n",
              "      <td>466</td>\n",
              "      <td>D</td>\n",
              "      <td>NaN</td>\n",
              "      <td>56.001150</td>\n",
              "      <td>F</td>\n",
              "      <td>NaN</td>\n",
              "      <td>NaN</td>\n",
              "      <td>NaN</td>\n",
              "      <td>N</td>\n",
              "      <td>7.1</td>\n",
              "      <td>NaN</td>\n",
              "      <td>3.51</td>\n",
              "      <td>NaN</td>\n",
              "      <td>NaN</td>\n",
              "      <td>NaN</td>\n",
              "      <td>NaN</td>\n",
              "      <td>721.0</td>\n",
              "      <td>11.8</td>\n",
              "      <td>NaN</td>\n",
              "    </tr>\n",
              "    <tr>\n",
              "      <th>336</th>\n",
              "      <td>2286</td>\n",
              "      <td>D</td>\n",
              "      <td>NaN</td>\n",
              "      <td>56.001150</td>\n",
              "      <td>F</td>\n",
              "      <td>NaN</td>\n",
              "      <td>NaN</td>\n",
              "      <td>NaN</td>\n",
              "      <td>N</td>\n",
              "      <td>1.8</td>\n",
              "      <td>NaN</td>\n",
              "      <td>3.64</td>\n",
              "      <td>NaN</td>\n",
              "      <td>NaN</td>\n",
              "      <td>NaN</td>\n",
              "      <td>NaN</td>\n",
              "      <td>141.0</td>\n",
              "      <td>10.0</td>\n",
              "      <td>NaN</td>\n",
              "    </tr>\n",
              "  </tbody>\n",
              "</table>\n",
              "</div>\n",
              "      <button class=\"colab-df-convert\" onclick=\"convertToInteractive('df-ce1fee29-94b0-46ee-aad5-d3334e8568d9')\"\n",
              "              title=\"Convert this dataframe to an interactive table.\"\n",
              "              style=\"display:none;\">\n",
              "        \n",
              "  <svg xmlns=\"http://www.w3.org/2000/svg\" height=\"24px\"viewBox=\"0 0 24 24\"\n",
              "       width=\"24px\">\n",
              "    <path d=\"M0 0h24v24H0V0z\" fill=\"none\"/>\n",
              "    <path d=\"M18.56 5.44l.94 2.06.94-2.06 2.06-.94-2.06-.94-.94-2.06-.94 2.06-2.06.94zm-11 1L8.5 8.5l.94-2.06 2.06-.94-2.06-.94L8.5 2.5l-.94 2.06-2.06.94zm10 10l.94 2.06.94-2.06 2.06-.94-2.06-.94-.94-2.06-.94 2.06-2.06.94z\"/><path d=\"M17.41 7.96l-1.37-1.37c-.4-.4-.92-.59-1.43-.59-.52 0-1.04.2-1.43.59L10.3 9.45l-7.72 7.72c-.78.78-.78 2.05 0 2.83L4 21.41c.39.39.9.59 1.41.59.51 0 1.02-.2 1.41-.59l7.78-7.78 2.81-2.81c.8-.78.8-2.07 0-2.86zM5.41 20L4 18.59l7.72-7.72 1.47 1.35L5.41 20z\"/>\n",
              "  </svg>\n",
              "      </button>\n",
              "      \n",
              "  <style>\n",
              "    .colab-df-container {\n",
              "      display:flex;\n",
              "      flex-wrap:wrap;\n",
              "      gap: 12px;\n",
              "    }\n",
              "\n",
              "    .colab-df-convert {\n",
              "      background-color: #E8F0FE;\n",
              "      border: none;\n",
              "      border-radius: 50%;\n",
              "      cursor: pointer;\n",
              "      display: none;\n",
              "      fill: #1967D2;\n",
              "      height: 32px;\n",
              "      padding: 0 0 0 0;\n",
              "      width: 32px;\n",
              "    }\n",
              "\n",
              "    .colab-df-convert:hover {\n",
              "      background-color: #E2EBFA;\n",
              "      box-shadow: 0px 1px 2px rgba(60, 64, 67, 0.3), 0px 1px 3px 1px rgba(60, 64, 67, 0.15);\n",
              "      fill: #174EA6;\n",
              "    }\n",
              "\n",
              "    [theme=dark] .colab-df-convert {\n",
              "      background-color: #3B4455;\n",
              "      fill: #D2E3FC;\n",
              "    }\n",
              "\n",
              "    [theme=dark] .colab-df-convert:hover {\n",
              "      background-color: #434B5C;\n",
              "      box-shadow: 0px 1px 3px 1px rgba(0, 0, 0, 0.15);\n",
              "      filter: drop-shadow(0px 1px 2px rgba(0, 0, 0, 0.3));\n",
              "      fill: #FFFFFF;\n",
              "    }\n",
              "  </style>\n",
              "\n",
              "      <script>\n",
              "        const buttonEl =\n",
              "          document.querySelector('#df-ce1fee29-94b0-46ee-aad5-d3334e8568d9 button.colab-df-convert');\n",
              "        buttonEl.style.display =\n",
              "          google.colab.kernel.accessAllowed ? 'block' : 'none';\n",
              "\n",
              "        async function convertToInteractive(key) {\n",
              "          const element = document.querySelector('#df-ce1fee29-94b0-46ee-aad5-d3334e8568d9');\n",
              "          const dataTable =\n",
              "            await google.colab.kernel.invokeFunction('convertToInteractive',\n",
              "                                                     [key], {});\n",
              "          if (!dataTable) return;\n",
              "\n",
              "          const docLinkHtml = 'Like what you see? Visit the ' +\n",
              "            '<a target=\"_blank\" href=https://colab.research.google.com/notebooks/data_table.ipynb>data table notebook</a>'\n",
              "            + ' to learn more about interactive tables.';\n",
              "          element.innerHTML = '';\n",
              "          dataTable['output_type'] = 'display_data';\n",
              "          await google.colab.output.renderOutput(dataTable, element);\n",
              "          const docLink = document.createElement('div');\n",
              "          docLink.innerHTML = docLinkHtml;\n",
              "          element.appendChild(docLink);\n",
              "        }\n",
              "      </script>\n",
              "    </div>\n",
              "  </div>\n",
              "  "
            ]
          },
          "metadata": {},
          "execution_count": 102
        }
      ]
    },
    {
      "cell_type": "markdown",
      "source": [
        "With too many missing values in rows where the target value is also missing, so lets drop rows with missing target value."
      ],
      "metadata": {
        "id": "z8A7kIHsy1DI"
      }
    },
    {
      "cell_type": "code",
      "source": [
        "#drop rows with missing target(stage) value\n",
        "cir.dropna(axis=0,subset=[\"Stage\"],inplace=True)"
      ],
      "metadata": {
        "id": "Z5asxIVMvNad"
      },
      "execution_count": 103,
      "outputs": []
    },
    {
      "cell_type": "code",
      "source": [
        "cir[\"Stage\"] = cir[\"Stage\"].astype(int)"
      ],
      "metadata": {
        "id": "3vgPkUiDtrLc"
      },
      "execution_count": 104,
      "outputs": []
    },
    {
      "cell_type": "code",
      "source": [
        "plt.style.use('fivethirtyeight')"
      ],
      "metadata": {
        "id": "J773W6wGr8y8"
      },
      "execution_count": 105,
      "outputs": []
    },
    {
      "cell_type": "code",
      "source": [
        "#checking data distributions for numerical features\n",
        "#age doesn't have missing values, used here just to balance subplot\n",
        "missing_nums = [[\"Cholesterol\",\"Copper\",\"Alk_Phos\",\"SGOT\"],[\"Tryglicerides\",\"Platelets\",\"Prothrombin\",\"Age\"]]\n",
        "fig, axs = plt.subplots(2, 4,figsize=(10,5))\n",
        "plt.figure(figsize=(12,8))\n",
        "for i in range(2):\n",
        "  for j in range(4):\n",
        "    sns.kdeplot(cir,x=missing_nums[i][j], ax=axs[i,j])\n",
        "    axs[i,j].label_outer()\n",
        "    axs[i,j].set_title(missing_nums[i][j])\n",
        "plt.show()"
      ],
      "metadata": {
        "colab": {
          "base_uri": "https://localhost:8080/",
          "height": 542
        },
        "id": "sjc3mrGRhIOQ",
        "outputId": "36444ded-d73c-40be-c39f-48c1b1072426"
      },
      "execution_count": 106,
      "outputs": [
        {
          "output_type": "display_data",
          "data": {
            "text/plain": [
              "<Figure size 1000x500 with 8 Axes>"
            ],
            "image/png": "[encoded data removed]"
          },
          "metadata": {}
        },
        {
          "output_type": "display_data",
          "data": {
            "text/plain": [
              "<Figure size 1200x800 with 0 Axes>"
            ]
          },
          "metadata": {}
        }
      ]
    },
    {
      "cell_type": "markdown",
      "source": [
        "All the numerical features with missing values follows gaussian distributiom with some degree of skewness, so lets use median to impute missing values in those colums."
      ],
      "metadata": {
        "id": "qmCY84cLtcbd"
      }
    },
    {
      "cell_type": "code",
      "source": [
        "for cols in missing_nums:\n",
        "  for col in cols:\n",
        "    #impute missing values with median of respective column\n",
        "    cir[col].fillna(cir[col].median(), inplace=True)"
      ],
      "metadata": {
        "id": "F-yyGfGvtn99"
      },
      "execution_count": 107,
      "outputs": []
    },
    {
      "cell_type": "markdown",
      "source": [
        "Now we are left with null values in cateforical columns.\n",
        "We will use mode imputaion(most frequent values) for categorical columns."
      ],
      "metadata": {
        "id": "lgLtwytau3ck"
      }
    },
    {
      "cell_type": "code",
      "source": [
        "for col in cat_cols:\n",
        "    cir[col].fillna(cir[col].mode().values[0], inplace=True)\n",
        "\n",
        "cir.isna().sum()"
      ],
      "metadata": {
        "colab": {
          "base_uri": "https://localhost:8080/"
        },
        "id": "7HTtBZ7as4j6",
        "outputId": "e9b2a480-8d2b-4ba2-bc58-57223a396a96"
      },
      "execution_count": 108,
      "outputs": [
        {
          "output_type": "execute_result",
          "data": {
            "text/plain": [
              "N_Days           0\n",
              "Status           0\n",
              "Drug             0\n",
              "Age              0\n",
              "Sex              0\n",
              "Ascites          0\n",
              "Hepatomegaly     0\n",
              "Spiders          0\n",
              "Edema            0\n",
              "Bilirubin        0\n",
              "Cholesterol      0\n",
              "Albumin          0\n",
              "Copper           0\n",
              "Alk_Phos         0\n",
              "SGOT             0\n",
              "Tryglicerides    0\n",
              "Platelets        0\n",
              "Prothrombin      0\n",
              "Stage            0\n",
              "dtype: int64"
            ]
          },
          "metadata": {},
          "execution_count": 108
        }
      ]
    },
    {
      "cell_type": "markdown",
      "source": [
        "## Columns encoding"
      ],
      "metadata": {
        "id": "lLxoTZs33RSX"
      }
    },
    {
      "cell_type": "markdown",
      "source": [
        "We have some categorical columns with string values.Many ML algorithms couldn't work with such values. So, lets use appropriate encoding to encode them. We will use two types of encoding:\n",
        "1. One hot Encoding : Status,Drugs,Sex  \n",
        "2. Label Encoding : Ascites, Hepatomegaly, Spiders, Edema"
      ],
      "metadata": {
        "id": "2oSD_oCu35tT"
      }
    },
    {
      "cell_type": "code",
      "source": [
        "from sklearn.preprocessing import LabelEncoder"
      ],
      "metadata": {
        "id": "wYgDg1GzdHIJ"
      },
      "execution_count": 109,
      "outputs": []
    },
    {
      "cell_type": "code",
      "source": [
        "# one hot encoding for nominal values columns\n",
        "cir_encoded = pd.get_dummies(cir, columns=[\"Status\",\"Drug\",\"Sex\"])\n",
        "# cir_encoded.head()"
      ],
      "metadata": {
        "id": "oJ7Tnp2raDWU"
      },
      "execution_count": 110,
      "outputs": []
    },
    {
      "cell_type": "code",
      "source": [
        "# one hot encoding for ordinal values columns\n",
        "label_encode_cols = [\"Ascites\", \"Hepatomegaly\", \"Spiders\", \"Edema\"]\n",
        "le = LabelEncoder()\n",
        "\n",
        "for col in label_encode_cols:\n",
        "  cir_encoded[col] = le.fit_transform(cir_encoded[col])\n",
        "# cir_encoded.head()"
      ],
      "metadata": {
        "id": "NGyGE7Z3bhvD"
      },
      "execution_count": 111,
      "outputs": []
    },
    {
      "cell_type": "code",
      "source": [
        "cols_order = [\"N_Days\",\"Age\",\"Sex_F\",\"Sex_M\",\"Status_C\",\"Status_CL\",\"Status_D\",\"Drug_D-penicillamine\",\"Drug_Placebo\",\"Ascites\",\"Hepatomegaly\",\"Spiders\",\"Edema\",\"Bilirubin\",\"Cholesterol\",\"Albumin\",\"Copper\",\"Alk_Phos\",\"SGOT\",\"Tryglicerides\",\"Platelets\",\"Prothrombin\",\"Stage\"]\n",
        "cir_encoded = cir_encoded.reindex(columns=cols_order)\n",
        "cir_encoded.head()"
      ],
      "metadata": {
        "colab": {
          "base_uri": "https://localhost:8080/",
          "height": 317
        },
        "id": "OTsDQIY2bsmJ",
        "outputId": "ed76f475-3bcd-410d-d8b9-eabd69ef1dcb"
      },
      "execution_count": 112,
      "outputs": [
        {
          "output_type": "execute_result",
          "data": {
            "text/plain": [
              "   N_Days        Age  Sex_F  Sex_M  Status_C  Status_CL  Status_D  \\\n",
              "0     400  58.766436      1      0         0          0         1   \n",
              "1    4500  56.447429      1      0         1          0         0   \n",
              "2    1012  70.073992      0      1         0          0         1   \n",
              "3    1925  54.741713      1      0         0          0         1   \n",
              "4    1504  38.106190      1      0         0          1         0   \n",
              "\n",
              "   Drug_D-penicillamine  Drug_Placebo  Ascites  ...  Bilirubin  Cholesterol  \\\n",
              "0                     1             0        1  ...       14.5        261.0   \n",
              "1                     1             0        0  ...        1.1        302.0   \n",
              "2                     1             0        0  ...        1.4        176.0   \n",
              "3                     1             0        0  ...        1.8        244.0   \n",
              "4                     0             1        0  ...        3.4        279.0   \n",
              "\n",
              "   Albumin  Copper  Alk_Phos    SGOT  Tryglicerides  Platelets  Prothrombin  \\\n",
              "0     2.60   156.0    1718.0  137.95          172.0      190.0         12.2   \n",
              "1     4.14    54.0    7394.8  113.52           88.0      221.0         10.6   \n",
              "2     3.48   210.0     516.0   96.10           55.0      151.0         12.0   \n",
              "3     2.54    64.0    6121.8   60.63           92.0      183.0         10.3   \n",
              "4     3.53   143.0     671.0  113.15           72.0      136.0         10.9   \n",
              "\n",
              "   Stage  \n",
              "0      4  \n",
              "1      3  \n",
              "2      4  \n",
              "3      4  \n",
              "4      3  \n",
              "\n",
              "[5 rows x 23 columns]"
            ],
            "text/html": [
              "\n",
              "  <div id=\"df-4d41b2b1-2be0-47b5-a5c9-3d1edd0ab1a6\">\n",
              "    <div class=\"colab-df-container\">\n",
              "      <div>\n",
              "<style scoped>\n",
              "    .dataframe tbody tr th:only-of-type {\n",
              "        vertical-align: middle;\n",
              "    }\n",
              "\n",
              "    .dataframe tbody tr th {\n",
              "        vertical-align: top;\n",
              "    }\n",
              "\n",
              "    .dataframe thead th {\n",
              "        text-align: right;\n",
              "    }\n",
              "</style>\n",
              "<table border=\"1\" class=\"dataframe\">\n",
              "  <thead>\n",
              "    <tr style=\"text-align: right;\">\n",
              "      <th></th>\n",
              "      <th>N_Days</th>\n",
              "      <th>Age</th>\n",
              "      <th>Sex_F</th>\n",
              "      <th>Sex_M</th>\n",
              "      <th>Status_C</th>\n",
              "      <th>Status_CL</th>\n",
              "      <th>Status_D</th>\n",
              "      <th>Drug_D-penicillamine</th>\n",
              "      <th>Drug_Placebo</th>\n",
              "      <th>Ascites</th>\n",
              "      <th>...</th>\n",
              "      <th>Bilirubin</th>\n",
              "      <th>Cholesterol</th>\n",
              "      <th>Albumin</th>\n",
              "      <th>Copper</th>\n",
              "      <th>Alk_Phos</th>\n",
              "      <th>SGOT</th>\n",
              "      <th>Tryglicerides</th>\n",
              "      <th>Platelets</th>\n",
              "      <th>Prothrombin</th>\n",
              "      <th>Stage</th>\n",
              "    </tr>\n",
              "  </thead>\n",
              "  <tbody>\n",
              "    <tr>\n",
              "      <th>0</th>\n",
              "      <td>400</td>\n",
              "      <td>58.766436</td>\n",
              "      <td>1</td>\n",
              "      <td>0</td>\n",
              "      <td>0</td>\n",
              "      <td>0</td>\n",
              "      <td>1</td>\n",
              "      <td>1</td>\n",
              "      <td>0</td>\n",
              "      <td>1</td>\n",
              "      <td>...</td>\n",
              "      <td>14.5</td>\n",
              "      <td>261.0</td>\n",
              "      <td>2.60</td>\n",
              "      <td>156.0</td>\n",
              "      <td>1718.0</td>\n",
              "      <td>137.95</td>\n",
              "      <td>172.0</td>\n",
              "      <td>190.0</td>\n",
              "      <td>12.2</td>\n",
              "      <td>4</td>\n",
              "    </tr>\n",
              "    <tr>\n",
              "      <th>1</th>\n",
              "      <td>4500</td>\n",
              "      <td>56.447429</td>\n",
              "      <td>1</td>\n",
              "      <td>0</td>\n",
              "      <td>1</td>\n",
              "      <td>0</td>\n",
              "      <td>0</td>\n",
              "      <td>1</td>\n",
              "      <td>0</td>\n",
              "      <td>0</td>\n",
              "      <td>...</td>\n",
              "      <td>1.1</td>\n",
              "      <td>302.0</td>\n",
              "      <td>4.14</td>\n",
              "      <td>54.0</td>\n",
              "      <td>7394.8</td>\n",
              "      <td>113.52</td>\n",
              "      <td>88.0</td>\n",
              "      <td>221.0</td>\n",
              "      <td>10.6</td>\n",
              "      <td>3</td>\n",
              "    </tr>\n",
              "    <tr>\n",
              "      <th>2</th>\n",
              "      <td>1012</td>\n",
              "      <td>70.073992</td>\n",
              "      <td>0</td>\n",
              "      <td>1</td>\n",
              "      <td>0</td>\n",
              "      <td>0</td>\n",
              "      <td>1</td>\n",
              "      <td>1</td>\n",
              "      <td>0</td>\n",
              "      <td>0</td>\n",
              "      <td>...</td>\n",
              "      <td>1.4</td>\n",
              "      <td>176.0</td>\n",
              "      <td>3.48</td>\n",
              "      <td>210.0</td>\n",
              "      <td>516.0</td>\n",
              "      <td>96.10</td>\n",
              "      <td>55.0</td>\n",
              "      <td>151.0</td>\n",
              "      <td>12.0</td>\n",
              "      <td>4</td>\n",
              "    </tr>\n",
              "    <tr>\n",
              "      <th>3</th>\n",
              "      <td>1925</td>\n",
              "      <td>54.741713</td>\n",
              "      <td>1</td>\n",
              "      <td>0</td>\n",
              "      <td>0</td>\n",
              "      <td>0</td>\n",
              "      <td>1</td>\n",
              "      <td>1</td>\n",
              "      <td>0</td>\n",
              "      <td>0</td>\n",
              "      <td>...</td>\n",
              "      <td>1.8</td>\n",
              "      <td>244.0</td>\n",
              "      <td>2.54</td>\n",
              "      <td>64.0</td>\n",
              "      <td>6121.8</td>\n",
              "      <td>60.63</td>\n",
              "      <td>92.0</td>\n",
              "      <td>183.0</td>\n",
              "      <td>10.3</td>\n",
              "      <td>4</td>\n",
              "    </tr>\n",
              "    <tr>\n",
              "      <th>4</th>\n",
              "      <td>1504</td>\n",
              "      <td>38.106190</td>\n",
              "      <td>1</td>\n",
              "      <td>0</td>\n",
              "      <td>0</td>\n",
              "      <td>1</td>\n",
              "      <td>0</td>\n",
              "      <td>0</td>\n",
              "      <td>1</td>\n",
              "      <td>0</td>\n",
              "      <td>...</td>\n",
              "      <td>3.4</td>\n",
              "      <td>279.0</td>\n",
              "      <td>3.53</td>\n",
              "      <td>143.0</td>\n",
              "      <td>671.0</td>\n",
              "      <td>113.15</td>\n",
              "      <td>72.0</td>\n",
              "      <td>136.0</td>\n",
              "      <td>10.9</td>\n",
              "      <td>3</td>\n",
              "    </tr>\n",
              "  </tbody>\n",
              "</table>\n",
              "<p>5 rows × 23 columns</p>\n",
              "</div>\n",
              "      <button class=\"colab-df-convert\" onclick=\"convertToInteractive('df-4d41b2b1-2be0-47b5-a5c9-3d1edd0ab1a6')\"\n",
              "              title=\"Convert this dataframe to an interactive table.\"\n",
              "              style=\"display:none;\">\n",
              "        \n",
              "  <svg xmlns=\"http://www.w3.org/2000/svg\" height=\"24px\"viewBox=\"0 0 24 24\"\n",
              "       width=\"24px\">\n",
              "    <path d=\"M0 0h24v24H0V0z\" fill=\"none\"/>\n",
              "    <path d=\"M18.56 5.44l.94 2.06.94-2.06 2.06-.94-2.06-.94-.94-2.06-.94 2.06-2.06.94zm-11 1L8.5 8.5l.94-2.06 2.06-.94-2.06-.94L8.5 2.5l-.94 2.06-2.06.94zm10 10l.94 2.06.94-2.06 2.06-.94-2.06-.94-.94-2.06-.94 2.06-2.06.94z\"/><path d=\"M17.41 7.96l-1.37-1.37c-.4-.4-.92-.59-1.43-.59-.52 0-1.04.2-1.43.59L10.3 9.45l-7.72 7.72c-.78.78-.78 2.05 0 2.83L4 21.41c.39.39.9.59 1.41.59.51 0 1.02-.2 1.41-.59l7.78-7.78 2.81-2.81c.8-.78.8-2.07 0-2.86zM5.41 20L4 18.59l7.72-7.72 1.47 1.35L5.41 20z\"/>\n",
              "  </svg>\n",
              "      </button>\n",
              "      \n",
              "  <style>\n",
              "    .colab-df-container {\n",
              "      display:flex;\n",
              "      flex-wrap:wrap;\n",
              "      gap: 12px;\n",
              "    }\n",
              "\n",
              "    .colab-df-convert {\n",
              "      background-color: #E8F0FE;\n",
              "      border: none;\n",
              "      border-radius: 50%;\n",
              "      cursor: pointer;\n",
              "      display: none;\n",
              "      fill: #1967D2;\n",
              "      height: 32px;\n",
              "      padding: 0 0 0 0;\n",
              "      width: 32px;\n",
              "    }\n",
              "\n",
              "    .colab-df-convert:hover {\n",
              "      background-color: #E2EBFA;\n",
              "      box-shadow: 0px 1px 2px rgba(60, 64, 67, 0.3), 0px 1px 3px 1px rgba(60, 64, 67, 0.15);\n",
              "      fill: #174EA6;\n",
              "    }\n",
              "\n",
              "    [theme=dark] .colab-df-convert {\n",
              "      background-color: #3B4455;\n",
              "      fill: #D2E3FC;\n",
              "    }\n",
              "\n",
              "    [theme=dark] .colab-df-convert:hover {\n",
              "      background-color: #434B5C;\n",
              "      box-shadow: 0px 1px 3px 1px rgba(0, 0, 0, 0.15);\n",
              "      filter: drop-shadow(0px 1px 2px rgba(0, 0, 0, 0.3));\n",
              "      fill: #FFFFFF;\n",
              "    }\n",
              "  </style>\n",
              "\n",
              "      <script>\n",
              "        const buttonEl =\n",
              "          document.querySelector('#df-4d41b2b1-2be0-47b5-a5c9-3d1edd0ab1a6 button.colab-df-convert');\n",
              "        buttonEl.style.display =\n",
              "          google.colab.kernel.accessAllowed ? 'block' : 'none';\n",
              "\n",
              "        async function convertToInteractive(key) {\n",
              "          const element = document.querySelector('#df-4d41b2b1-2be0-47b5-a5c9-3d1edd0ab1a6');\n",
              "          const dataTable =\n",
              "            await google.colab.kernel.invokeFunction('convertToInteractive',\n",
              "                                                     [key], {});\n",
              "          if (!dataTable) return;\n",
              "\n",
              "          const docLinkHtml = 'Like what you see? Visit the ' +\n",
              "            '<a target=\"_blank\" href=https://colab.research.google.com/notebooks/data_table.ipynb>data table notebook</a>'\n",
              "            + ' to learn more about interactive tables.';\n",
              "          element.innerHTML = '';\n",
              "          dataTable['output_type'] = 'display_data';\n",
              "          await google.colab.output.renderOutput(dataTable, element);\n",
              "          const docLink = document.createElement('div');\n",
              "          docLink.innerHTML = docLinkHtml;\n",
              "          element.appendChild(docLink);\n",
              "        }\n",
              "      </script>\n",
              "    </div>\n",
              "  </div>\n",
              "  "
            ]
          },
          "metadata": {},
          "execution_count": 112
        }
      ]
    },
    {
      "cell_type": "markdown",
      "source": [
        "## Dataset balancing"
      ],
      "metadata": {
        "id": "jpIavHh_eE89"
      }
    },
    {
      "cell_type": "code",
      "source": [
        "#Check number of instance for each stage\n",
        "def plot_target_count(data):\n",
        "  \"\"\"Function to plot number of samples in each class\"\"\"\n",
        "\n",
        "  plt.figure(figsize=(4,4))\n",
        "  counts = data.value_counts()\n",
        "\n",
        "  plt.bar(x = counts.index, height = counts, color = 'orange')\n",
        "  plt.xticks(rotation = 90)\n",
        "  plt.title('Target Counts')\n",
        "  plt.xlabel('Stages')\n",
        "  plt.ylabel('Counts')\n",
        "  plt.xticks([1,2,3,4], ['Stage 1', 'Stage 2', 'Stage 3', 'Stage 4'], rotation = 0)\n",
        "  plt.show()"
      ],
      "metadata": {
        "id": "z7dALwj3dyzj"
      },
      "execution_count": 113,
      "outputs": []
    },
    {
      "cell_type": "code",
      "source": [
        "plot_target_count(cir_encoded[\"Stage\"])"
      ],
      "metadata": {
        "colab": {
          "base_uri": "https://localhost:8080/",
          "height": 443
        },
        "id": "NVCTTbN7kxPO",
        "outputId": "f6f1ea28-c72a-4407-9885-c9605a68b7d0"
      },
      "execution_count": 114,
      "outputs": [
        {
          "output_type": "display_data",
          "data": {
            "text/plain": [
              "<Figure size 400x400 with 1 Axes>"
            ],
            "image/png": "[encoded data removed]"
          },
          "metadata": {}
        }
      ]
    },
    {
      "cell_type": "markdown",
      "source": [
        "The dataset is highly imbalanced with less number of rows for earlier stage of cirrhosis. We will perform oversampling using SMOTE(Synthetic Minority Oversampling Technique) with Edited Nearest Neighbor (ENN)."
      ],
      "metadata": {
        "id": "NFEhVDRze_XE"
      }
    },
    {
      "cell_type": "code",
      "source": [
        "from imblearn.over_sampling import SMOTE\n",
        "from imblearn.under_sampling import EditedNearestNeighbours"
      ],
      "metadata": {
        "id": "eiU_ySeCel6Q"
      },
      "execution_count": 115,
      "outputs": []
    },
    {
      "cell_type": "markdown",
      "source": [
        "Before performing oversamling we will split our existing dataset into train and test set. We will use 80-20 split for train and test set."
      ],
      "metadata": {
        "id": "Ms8oIDSogdnJ"
      }
    },
    {
      "cell_type": "code",
      "source": [
        "X = cir_encoded.drop(\"Stage\",axis=1)\n",
        "y = cir_encoded[\"Stage\"]\n",
        "\n",
        "X_train, X_test, y_train, y_test = train_test_split(X, y, test_size=0.2, random_state=28)"
      ],
      "metadata": {
        "id": "8nmjTh8afcHp"
      },
      "execution_count": 116,
      "outputs": []
    },
    {
      "cell_type": "code",
      "source": [
        "smote = SMOTE(sampling_strategy='all')\n",
        "X_train_resampled, y_train_resampled = smote.fit_resample(X_train, y_train)"
      ],
      "metadata": {
        "id": "q54Ju4PLg92j"
      },
      "execution_count": 117,
      "outputs": []
    },
    {
      "cell_type": "code",
      "source": [
        "plot_target_count(y_train_resampled)"
      ],
      "metadata": {
        "colab": {
          "base_uri": "https://localhost:8080/",
          "height": 443
        },
        "id": "Rr4KjdYLh7Yv",
        "outputId": "c4cbeb33-c93d-4de8-e59c-41b9e957f766"
      },
      "execution_count": 118,
      "outputs": [
        {
          "output_type": "display_data",
          "data": {
            "text/plain": [
              "<Figure size 400x400 with 1 Axes>"
            ],
            "image/png": "[encoded data removed]"
          },
          "metadata": {}
        }
      ]
    },
    {
      "cell_type": "markdown",
      "source": [
        "Looks good."
      ],
      "metadata": {
        "id": "GL2ivsi4ln8a"
      }
    },
    {
      "cell_type": "markdown",
      "source": [
        "## Feature Scaling"
      ],
      "metadata": {
        "id": "QJpMKv44oj54"
      }
    },
    {
      "cell_type": "code",
      "source": [
        "numeric_cols = ['N_Days','Age','Bilirubin','Cholesterol','Albumin','Copper','Alk_Phos','SGOT','Tryglicerides','Platelets','Prothrombin']"
      ],
      "metadata": {
        "id": "-UIO7_a2oxvB"
      },
      "execution_count": 123,
      "outputs": []
    },
    {
      "cell_type": "code",
      "source": [
        "#function to perform feature scaling using standard scaler\n",
        "def scaler(model,df_train,df_test):\n",
        "  model.fit(df_train)\n",
        "\n",
        "  scaled_train = model.transform(df_train)\n",
        "  scaled_test = model.transform(df_test)\n",
        "\n",
        "  return scaled_train,scaled_test"
      ],
      "metadata": {
        "id": "fNPJDsHVmPwu"
      },
      "execution_count": 124,
      "outputs": []
    },
    {
      "cell_type": "code",
      "source": [
        "from sklearn.preprocessing import StandardScaler"
      ],
      "metadata": {
        "id": "kOVxwun1rVz0"
      },
      "execution_count": 125,
      "outputs": []
    },
    {
      "cell_type": "code",
      "source": [
        "X_train_resampled[numeric_cols],X_test[numeric_cols] = scaler(StandardScaler(),X_train_resampled[numeric_cols],X_test[numeric_cols])"
      ],
      "metadata": {
        "id": "sAIi4TmwrWGR"
      },
      "execution_count": 126,
      "outputs": []
    },
    {
      "cell_type": "markdown",
      "source": [
        "## Feature Selection"
      ],
      "metadata": {
        "id": "1KmazlPTsjXI"
      }
    },
    {
      "cell_type": "code",
      "source": [
        "from sklearn.feature_selection import SelectKBest\n",
        "from sklearn.feature_selection import f_classif"
      ],
      "metadata": {
        "id": "KIKEy3xSrkpR"
      },
      "execution_count": 131,
      "outputs": []
    },
    {
      "cell_type": "code",
      "source": [
        "best = SelectKBest( score_func = f_classif, k = 20)\n",
        "fit = best.fit(X_train_resampled, y_train_resampled)"
      ],
      "metadata": {
        "id": "ghnIlvMeslvB"
      },
      "execution_count": 138,
      "outputs": []
    },
    {
      "cell_type": "code",
      "source": [
        "best.get_support(indices=True)"
      ],
      "metadata": {
        "colab": {
          "base_uri": "https://localhost:8080/"
        },
        "id": "kw5veA9WwGOH",
        "outputId": "ad43437b-62ae-4039-b277-ef1f20ab5b63"
      },
      "execution_count": 139,
      "outputs": [
        {
          "output_type": "execute_result",
          "data": {
            "text/plain": [
              "array([ 0,  1,  2,  4,  5,  6,  7,  8,  9, 10, 11, 12, 13, 14, 15, 16, 18,\n",
              "       19, 20, 21])"
            ]
          },
          "metadata": {},
          "execution_count": 139
        }
      ]
    },
    {
      "cell_type": "code",
      "source": [
        "fit.feature_names_in_"
      ],
      "metadata": {
        "colab": {
          "base_uri": "https://localhost:8080/"
        },
        "id": "AH_uwBaBwp44",
        "outputId": "58014060-7c64-47cc-b1cc-aa972f284bf0"
      },
      "execution_count": 141,
      "outputs": [
        {
          "output_type": "execute_result",
          "data": {
            "text/plain": [
              "array(['N_Days', 'Age', 'Sex_F', 'Sex_M', 'Status_C', 'Status_CL',\n",
              "       'Status_D', 'Drug_D-penicillamine', 'Drug_Placebo', 'Ascites',\n",
              "       'Hepatomegaly', 'Spiders', 'Edema', 'Bilirubin', 'Cholesterol',\n",
              "       'Albumin', 'Copper', 'Alk_Phos', 'SGOT', 'Tryglicerides',\n",
              "       'Platelets', 'Prothrombin'], dtype=object)"
            ]
          },
          "metadata": {},
          "execution_count": 141
        }
      ]
    },
    {
      "cell_type": "code",
      "source": [
        "for feature,score,pvalue in zip(fit.feature_names_in_,fit.scores_,fit.pvalues_):\n",
        "  print(feature,score)"
      ],
      "metadata": {
        "colab": {
          "base_uri": "https://localhost:8080/"
        },
        "id": "-AdZscWCs-k6",
        "outputId": "7dc28209-fb7e-4630-fb73-f4bee46b9eef"
      },
      "execution_count": 144,
      "outputs": [
        {
          "output_type": "stream",
          "name": "stdout",
          "text": [
            "N_Days 42.75097302297251\n",
            "Age 9.340678831427612\n",
            "Sex_F 13.228144714819107\n",
            "Sex_M 2.4800961394021335\n",
            "Status_C 33.821972305102896\n",
            "Status_CL 2.849182226081922\n",
            "Status_D 47.88092849020001\n",
            "Drug_D-penicillamine 3.9932975582422787\n",
            "Drug_Placebo 18.33385106566572\n",
            "Ascites 14.497205060311858\n",
            "Hepatomegaly 88.1793488372093\n",
            "Spiders 23.258279026466283\n",
            "Edema 19.69577604360213\n",
            "Bilirubin 12.53013709869693\n",
            "Cholesterol 12.591249001298339\n",
            "Albumin 46.07748780758625\n",
            "Copper 15.725635344784955\n",
            "Alk_Phos 2.5220755488536413\n",
            "SGOT 23.170681977285515\n",
            "Tryglicerides 4.934503432005638\n",
            "Platelets 12.696950463518498\n",
            "Prothrombin 17.126221725613295\n"
          ]
        }
      ]
    },
    {
      "cell_type": "markdown",
      "source": [
        "## Model Selection"
      ],
      "metadata": {
        "id": "UqnGb9BXxfdE"
      }
    },
    {
      "cell_type": "code",
      "source": [],
      "metadata": {
        "id": "Jyf4Fo1VxBey"
      },
      "execution_count": null,
      "outputs": []
    }
  ]
}